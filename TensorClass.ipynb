{
 "cells": [
  {
   "cell_type": "code",
   "execution_count": 41,
   "metadata": {},
   "outputs": [],
   "source": [
    "class Tensor():\n",
    "    \n",
    "    def __init__(self,data,shape):\n",
    "        \n",
    "        ''' \n",
    "        Returns a tensor in the form of a nested list up to 3 dimensions only as of now.\n",
    "        '''\n",
    "        \n",
    "        self.data = data\n",
    "        self.shape = shape\n",
    "        \n",
    "    def shape_data(self):\n",
    "        \n",
    "        def build_array(row,column,data):\n",
    "            \n",
    "            ''' \n",
    "            Helper function.\n",
    "            Returns matrix that fits data to the size of the dimensions\n",
    "            Pads matrix with zeroes if data's size is less than possible dimension values \n",
    "            \n",
    "            '''\n",
    "                   \n",
    "            matrix = []\n",
    "            \n",
    "            for i in range(row):\n",
    "                column_list = []\n",
    "                for j in range(column):\n",
    "        \n",
    "                    try:\n",
    "                        column_list.append(data[j])\n",
    "                    except IndexError:\n",
    "                        column_list.append(0)\n",
    "                        \n",
    "                data = data[j+1:]\n",
    "                matrix.append(column_list)\n",
    "                               \n",
    "            return matrix\n",
    "            \n",
    "        # Emtpy shape, return empty list\n",
    "        if not self.shape: return []\n",
    "        \n",
    "        # Return vector\n",
    "        if len(self.shape) == 1: return self.data[:self.shape[0]] \n",
    "        \n",
    "        # Return 2D matrix\n",
    "        if len(self.shape) == 2: return build_array(self.shape[0],self.shape[1],self.data) \n",
    "        \n",
    "        # Return 3D Tensor\n",
    "        if len(self.shape) > 2:\n",
    "            \n",
    "            first_dim, second_dim, third_dim =  self.shape\n",
    "            \n",
    "            inner_dim_size, values = second_dim * third_dim , self.data\n",
    "            \n",
    "            tensor = [] \n",
    "                        \n",
    "            for i in range(first_dim):\n",
    "                \n",
    "                last_dim_array = build_array(second_dim,third_dim,values)\n",
    "                tensor.append(last_dim_array)\n",
    "                values = values[inner_dim_size:]\n",
    "                \n",
    "            return tensor\n",
    "    "
   ]
  },
  {
   "cell_type": "code",
   "execution_count": 42,
   "metadata": {},
   "outputs": [
    {
     "data": {
      "text/plain": [
       "True"
      ]
     },
     "execution_count": 42,
     "metadata": {},
     "output_type": "execute_result"
    }
   ],
   "source": [
    "data0 = [0, 1, 2, 3, 4, 5, 0.1, 0.2, -3]\n",
    "shape0 = [2, 3, 2]\n",
    "tensor0 = Tensor(data0,shape0)\n",
    "tensor0.shape_data() == [[[0, 1], [2, 3], [4, 5]], [[0.1, 0.2], [-3, 0], [0, 0]]]"
   ]
  },
  {
   "cell_type": "code",
   "execution_count": 45,
   "metadata": {},
   "outputs": [
    {
     "data": {
      "text/plain": [
       "True"
      ]
     },
     "execution_count": 45,
     "metadata": {},
     "output_type": "execute_result"
    }
   ],
   "source": [
    "data1 = [0, 1, 2, 3, 4, 5, 0.1, 0.2, -3, -2, -1, 3, 2, 1]\n",
    "shape1 = [5, 2]\n",
    "tensor1 = Tensor(data1,shape1)\n",
    "tensor1.shape_data() == [[0, 1], [2, 3], [4, 5], [0.1, 0.2], [-3, -2]]"
   ]
  }
 ],
 "metadata": {
  "kernelspec": {
   "display_name": "Python 3",
   "language": "python",
   "name": "python3"
  },
  "language_info": {
   "codemirror_mode": {
    "name": "ipython",
    "version": 3
   },
   "file_extension": ".py",
   "mimetype": "text/x-python",
   "name": "python",
   "nbconvert_exporter": "python",
   "pygments_lexer": "ipython3",
   "version": "3.8.3"
  }
 },
 "nbformat": 4,
 "nbformat_minor": 4
}
